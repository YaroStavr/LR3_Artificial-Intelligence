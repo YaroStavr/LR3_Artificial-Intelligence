{
 "cells": [
  {
   "cell_type": "code",
   "execution_count": 1,
   "id": "331b1db0",
   "metadata": {},
   "outputs": [
    {
     "name": "stdout",
     "output_type": "stream",
     "text": [
      "Введите число для a[0] элемента = 4\n",
      "Введите число для a[1] элемента = 6\n",
      "Введите число для a[2] элемента = -2\n",
      "Введите число для a[3] элемента = 8\n",
      "Введите число для a[4] элемента = -4\n",
      "Введите число для a[5] элемента = -2\n",
      "Введите число для a[6] элемента = 4\n",
      "Введите число для a[7] элемента = 6\n",
      "Введите число для a[8] элемента = 3\n",
      "Введите число для a[9] элемента = -1\n",
      "Произведение отрицательных элементов:  16.0\n"
     ]
    }
   ],
   "source": [
    "\"\"\"\n",
    "Ввести список А из 10 элементов, найти произведение отрицательных элементов и вывести\n",
    "его на экран.\n",
    "\"\"\"\n",
    "n = 10\n",
    "sum = 1\n",
    "a = []\n",
    "for i in range(n):\n",
    "    num = float(input('Введите число для a[' + str(i) + '] элемента = '))\n",
    "    a.append(num)\n",
    "    if num < 0:\n",
    "        sum *= num\n",
    "\n",
    "print('Произведение отрицательных элементов: ', sum)\n"
   ]
  },
  {
   "cell_type": "code",
   "execution_count": 8,
   "id": "5a5f89c9",
   "metadata": {},
   "outputs": [
    {
     "name": "stdout",
     "output_type": "stream",
     "text": [
      "Список:  [9, 1, 6, 6, 10, 2, 5, 2, -2, 7]\n",
      "Номер минимального элемента списка:  9\n",
      "Сумма элементов находящихся между 1 и 2 отрицательным элементом:  7\n",
      "Сортированнный список:  [1, 2, 2, -2, 5, 6, 6, 7, 9, 10]\n"
     ]
    }
   ],
   "source": [
    "\"\"\"\n",
    " В списке, состоящем из вещественных элементов, вычислить:\n",
    "1. номер минимального элемента списка;\n",
    "2. сумму элементов списка, расположенных между первым и вторым отрицательными\n",
    "элементами.\n",
    "Преобразовать список таким образом, чтобы сначала располагались все элементы, модуль\n",
    "которых не превышает 1, а потом - все остальные.\n",
    "\"\"\"\n",
    "\n",
    "from random import randint\n",
    "\n",
    "n = 10\n",
    "sum = 1\n",
    "a = []\n",
    "max = 10\n",
    "min = max\n",
    "t, t2 = False, False\n",
    "\n",
    "sum = 0\n",
    "for i in range(n):\n",
    "   num = randint(-2,max)\n",
    "   #print(num)\n",
    "   a.append(num)\n",
    "   \n",
    "   if num <= min:\n",
    "      min = num\n",
    "      number = i+1\n",
    "   if t and num>-1:\n",
    "      sum+= a[i]\n",
    "      #print(\"ss = \", ss)\n",
    "\n",
    "   if t and t2==False and num<0:\n",
    "      t = False\n",
    "      t2 = True\n",
    "     # print(\"t2\", a[i])\n",
    "\n",
    "   if num<0 and t2 == False:\n",
    "      t=True \n",
    "      #print(\"t\", a[i])\n",
    "\n",
    "print('Список: ', a  )\n",
    "print('Номер минимального элемента списка: ', number)\n",
    "print('Сумма элементов находящихся между 1 и 2 отрицательным элементом: ', sum)\n",
    "a.sort(key=abs)  \n",
    "print('Сортированнный список: ', a  )"
   ]
  },
  {
   "cell_type": "code",
   "execution_count": null,
   "id": "c20346d4",
   "metadata": {},
   "outputs": [],
   "source": []
  },
  {
   "cell_type": "code",
   "execution_count": null,
   "id": "e6fd0282",
   "metadata": {},
   "outputs": [],
   "source": []
  }
 ],
 "metadata": {
  "kernelspec": {
   "display_name": "Python 3 (ipykernel)",
   "language": "python",
   "name": "python3"
  },
  "language_info": {
   "codemirror_mode": {
    "name": "ipython",
    "version": 3
   },
   "file_extension": ".py",
   "mimetype": "text/x-python",
   "name": "python",
   "nbconvert_exporter": "python",
   "pygments_lexer": "ipython3",
   "version": "3.9.7"
  }
 },
 "nbformat": 4,
 "nbformat_minor": 5
}
